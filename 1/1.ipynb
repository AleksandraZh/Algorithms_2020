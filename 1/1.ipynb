{
 "cells": [
  {
   "cell_type": "markdown",
   "metadata": {},
   "source": [
    "# Куски кода с лекции:"
   ]
  },
  {
   "cell_type": "code",
   "execution_count": null,
   "metadata": {},
   "outputs": [],
   "source": [
    "for i in range(n):\n",
    "    for j in range(10):\n",
    "        ...\n",
    "# O(10*n) = O(n)\n",
    "\n",
    "\n",
    "for i in range(n):\n",
    "    for j in range(n):\n",
    "        ...\n",
    "# O(n^2)\n",
    "\n",
    "\n",
    "# O(n + n^2) = O(n^2)"
   ]
  },
  {
   "cell_type": "code",
   "execution_count": null,
   "metadata": {},
   "outputs": [],
   "source": [
    "10^6 - 10^7\n",
    "\n",
    "O(n^2)\n",
    "\n",
    "n = 10^3\n",
    "n = 10^5"
   ]
  },
  {
   "cell_type": "code",
   "execution_count": 38,
   "metadata": {},
   "outputs": [
    {
     "data": {
      "text/plain": [
       "[0, 1, 2, 3]"
      ]
     },
     "execution_count": 38,
     "metadata": {},
     "output_type": "execute_result"
    }
   ],
   "source": [
    "def bubbleSort(arr):\n",
    "    n = len(arr)\n",
    "    for i in range(len(arr)):\n",
    "        for j in range(len(arr) - 1, i, -1):\n",
    "            if arr[j] < arr[j - 1]:\n",
    "                arr[j], arr[j - 1] = arr[j - 1], arr[j]\n",
    "    return arr\n",
    "\n",
    "# O(n * n) = O(n^2)\n",
    "bubbleSort([2, 3, 1, 0])"
   ]
  },
  {
   "cell_type": "markdown",
   "metadata": {},
   "source": [
    "# Решения некоторых задач:"
   ]
  },
  {
   "cell_type": "markdown",
   "metadata": {},
   "source": [
    "# A"
   ]
  },
  {
   "cell_type": "code",
   "execution_count": null,
   "metadata": {},
   "outputs": [],
   "source": [
    "a = int(input())\n",
    "b = int(input())\n",
    "print(b // a)"
   ]
  },
  {
   "cell_type": "markdown",
   "metadata": {},
   "source": [
    "# B"
   ]
  },
  {
   "cell_type": "code",
   "execution_count": null,
   "metadata": {},
   "outputs": [],
   "source": [
    "a = int(input())\n",
    "\n",
    "if a % 4 == 0 and (a % 100 != 0 or a % 400 == 0):\n",
    "    print(\"YES\")\n",
    "else:\n",
    "    print(\"NO\")"
   ]
  },
  {
   "cell_type": "markdown",
   "metadata": {},
   "source": [
    "# D"
   ]
  },
  {
   "cell_type": "markdown",
   "metadata": {},
   "source": [
    "Плохое решение (медленное, O(n^2))"
   ]
  },
  {
   "cell_type": "code",
   "execution_count": 59,
   "metadata": {},
   "outputs": [
    {
     "name": "stdout",
     "output_type": "stream",
     "text": [
      "1\n",
      "1\n"
     ]
    }
   ],
   "source": [
    "def f(n):\n",
    "    res = 1\n",
    "    for i in range(1, n + 1):\n",
    "        res *= i\n",
    "    return res\n",
    "\n",
    "n = int(input())\n",
    "res = 0\n",
    "for i in range(1, n + 1): \n",
    "    res += f(i)\n",
    "print(res)\n",
    "\n",
    "# O(n * n) = O(n ^ 2)"
   ]
  },
  {
   "cell_type": "markdown",
   "metadata": {},
   "source": [
    "Нормальное решение (O(n))"
   ]
  },
  {
   "cell_type": "code",
   "execution_count": 60,
   "metadata": {},
   "outputs": [
    {
     "name": "stdout",
     "output_type": "stream",
     "text": [
      "1\n",
      "1\n"
     ]
    }
   ],
   "source": [
    "n = int(input())\n",
    "p = 1\n",
    "res = 0\n",
    "for i in range(1, n + 1):\n",
    "    p *= i\n",
    "    res += p\n",
    "print(res)\n",
    "\n",
    "# O(n)"
   ]
  },
  {
   "cell_type": "markdown",
   "metadata": {},
   "source": [
    "# E"
   ]
  },
  {
   "cell_type": "code",
   "execution_count": null,
   "metadata": {},
   "outputs": [],
   "source": [
    "import sys\n",
    "a = sys.stdin.read().split()\n",
    "\n",
    "x, y = 0, 0\n",
    "for i in range(0, len(a), 2):\n",
    "    w = a[i] # North\n",
    "    c = int(a[i + 1]) # 2\n",
    "    ...\n",
    "\n",
    "print(y, x)"
   ]
  },
  {
   "cell_type": "code",
   "execution_count": null,
   "metadata": {},
   "outputs": [],
   "source": [
    "import sys\n",
    "a = sys.stdin.readlines()\n",
    "\n",
    "x, y = 0, 0\n",
    "for i in range(len(a)):\n",
    "    cur = a[i].split()\n",
    "    w = cur[0]\n",
    "    c = int(cur[1])\n",
    "    ...\n",
    "\n",
    "print(y, x)"
   ]
  },
  {
   "cell_type": "markdown",
   "metadata": {},
   "source": [
    "# F"
   ]
  },
  {
   "cell_type": "code",
   "execution_count": null,
   "metadata": {},
   "outputs": [],
   "source": [
    "n = int(input())\n",
    "a = [int(a) for a in input().split()]\n",
    "a = list(map(int, input().split()))\n",
    "\n",
    "# считаем префиксные суммы\n",
    "p = [a[0]]\n",
    "cur_s = p[0]\n",
    "for i in range(1, n):\n",
    "    cur_s += a[i]\n",
    "    p.append(cur_s)\n",
    "\n",
    "# обрабатываем запросы\n",
    "m = int(input())\n",
    "for _ in range(m):\n",
    "    l, r = input().split()\n",
    "    l = int(l) - 1\n",
    "    r = int(r) - 1\n",
    "    if l > 0:\n",
    "        print(p[r] - p[l - 1])\n",
    "    else:\n",
    "        print(p[r])"
   ]
  }
 ],
 "metadata": {
  "kernelspec": {
   "display_name": "Python 3",
   "language": "python",
   "name": "python3"
  },
  "language_info": {
   "codemirror_mode": {
    "name": "ipython",
    "version": 3
   },
   "file_extension": ".py",
   "mimetype": "text/x-python",
   "name": "python",
   "nbconvert_exporter": "python",
   "pygments_lexer": "ipython3",
   "version": "3.7.5"
  }
 },
 "nbformat": 4,
 "nbformat_minor": 4
}
